{
 "cells": [
  {
   "cell_type": "code",
   "execution_count": 3,
   "metadata": {},
   "outputs": [
    {
     "data": {
      "text/plain": [
       "'Price1.pdf'"
      ]
     },
     "execution_count": 3,
     "metadata": {},
     "output_type": "execute_result"
    }
   ],
   "source": [
    "import numpy as np\n",
    "import pandas as pd\n",
    "from sklearn import tree\n",
    "#导出为pdf所需package\n",
    "import graphviz\n",
    "\n",
    "#scikit learn中CART回归树\n",
    "CARTRegressionTree = tree.DecisionTreeRegressor()\n",
    "\n",
    "#准备数据\n",
    "adict = {'Model':['B3','T202','A100','T202','M102','A100','T202','A100','E112'],\n",
    "         'Condition':['excellent','fair','good','good','good','excellent','fair','good','fair'],\n",
    "         'Leslie':['no','yes','no','no','yes','no','no','yes','no']}\n",
    "dfx = pd.DataFrame(adict)\n",
    "onehot_dfx = pd.get_dummies(dfx)  #进行one-hot编码\n",
    "dataX = onehot_dfx.values         #给X赋值\n",
    "\n",
    "dataY = np.array([4513,625,1051,270,870,1770,99,1900,77])#给Y赋值\n",
    "\n",
    "#训练模型\n",
    "CARTRegressionTree.fit(dataX,dataY)\n",
    "\n",
    "#输出CART分类决策树并导出为pdf格式\n",
    "dot_data = tree.export_graphviz(CARTRegressionTree,out_file=None,feature_names=onehot_dfx.columns,\n",
    "                                filled=True,rounded=True,special_characters=True)\n",
    "graph = graphviz.Source(dot_data)\n",
    "graph.render('Price1')"
   ]
  }
 ],
 "metadata": {
  "kernelspec": {
   "display_name": "Python 3",
   "language": "python",
   "name": "python3"
  },
  "language_info": {
   "codemirror_mode": {
    "name": "ipython",
    "version": 3
   },
   "file_extension": ".py",
   "mimetype": "text/x-python",
   "name": "python",
   "nbconvert_exporter": "python",
   "pygments_lexer": "ipython3",
   "version": "3.6.3"
  }
 },
 "nbformat": 4,
 "nbformat_minor": 2
}
