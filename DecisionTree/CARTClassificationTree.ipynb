{
 "cells": [
  {
   "cell_type": "code",
   "execution_count": 36,
   "metadata": {},
   "outputs": [
    {
     "data": {
      "text/plain": [
       "'PlayGolf.pdf'"
      ]
     },
     "execution_count": 36,
     "metadata": {},
     "output_type": "execute_result"
    }
   ],
   "source": [
    "import numpy as np\n",
    "import pandas as pd\n",
    "from sklearn import tree\n",
    "#导出为pdf所需package\n",
    "import graphviz\n",
    "\n",
    "#scikit learn中CART分类树\n",
    "CARTClassificationTree = tree.DecisionTreeClassifier()\n",
    "\n",
    "#准备数据\n",
    "adict = {'Outlook':['Sunny','Sunny','Overcast','Rainy','Rainy','Rainy','Overcast',\n",
    "                    'Sunny','Sunny','Rainy','Sunny','Overcast','Overcast','Rainy'],\n",
    "         'Temperature':[85,80,83,70,68,65,64,72,69,75,75,72,81,71],\n",
    "         'Humidity':[85,90,78,96,80,70,65,95,70,80,70,90,75,80],\n",
    "         'Windy':[False,True,False,False,False,True,True,False,False,False,True,True,False,True]}\n",
    "dfx = pd.DataFrame(adict)\n",
    "#进行one-hot编码\n",
    "onehot_dfx = pd.get_dummies(dfx)\n",
    "#给X赋值\n",
    "dataX = onehot_dfx.values         \n",
    "#给Y赋值\n",
    "dataY = np.array(['No','No','Yes','Yes','Yes','No','Yes',\n",
    "                  'No','Yes','Yes','Yes','Yes','Yes','No'])\n",
    "\n",
    "#训练模型\n",
    "CARTClassificationTree.fit(dataX,dataY)\n",
    "\n",
    "#输出CART分类决策树并导出为pdf格式\n",
    "dot_data = tree.export_graphviz(CARTClassificationTree,out_file=None,\n",
    "                                class_names=npY,feature_names=onehot_dfx.columns,\n",
    "                                filled=True,rounded=True,special_characters=True)\n",
    "graph = graphviz.Source(dot_data)\n",
    "graph.render('PlayGolf')"
   ]
  },
  {
   "cell_type": "code",
   "execution_count": null,
   "metadata": {
    "collapsed": true
   },
   "outputs": [],
   "source": []
  }
 ],
 "metadata": {
  "kernelspec": {
   "display_name": "Python 3",
   "language": "python",
   "name": "python3"
  },
  "language_info": {
   "codemirror_mode": {
    "name": "ipython",
    "version": 3
   },
   "file_extension": ".py",
   "mimetype": "text/x-python",
   "name": "python",
   "nbconvert_exporter": "python",
   "pygments_lexer": "ipython3",
   "version": "3.6.3"
  }
 },
 "nbformat": 4,
 "nbformat_minor": 2
}
