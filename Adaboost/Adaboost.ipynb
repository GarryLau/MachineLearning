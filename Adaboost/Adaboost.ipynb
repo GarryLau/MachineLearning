import numpy as np
import matplotlib.pyplot as plt
data = np.loadtxt('Adaboost.txt',delimiter=' ')
X = data[:,0:2]
X = X.reshape(-1,2)
y = data[:,2]
#分别获取两类样本的索引
negative = data[:,2] == -1
positive = data[:,2] == 1
#显示结果
fig = plt.figure()
ax = fig.add_subplot(111)
ax.set_xlim(0,10)
ax.set_ylim(0,10)
ax.set_xlabel("X",fontsize=14)
ax.set_ylabel("y",fontsize=14)
ax.grid()
negative_lengend = plt.scatter(data[negative][:,0], data[negative][:,1],marker='x',c='r',s=60)
positive_lengend = plt.scatter(data[positive][:,0], data[positive][:,1],marker='+',c='b',s=100)

# line的数据
line1 = [(2.5, 0), (2.5, 10)]
line2 = [(8.5, 0), (8.5, 10)]
line3 = [(0, 6.5), (10, 6.5)]
(line1_xs, line1_ys) = zip(*line1)
(line2_xs, line2_ys) = zip(*line2)
(line3_xs, line3_ys) = zip(*line3)
# 创建两条线，并添加
ax.add_line(Line2D(line1_xs, line1_ys, linewidth=1, color='lime'))
ax.add_line(Line2D(line2_xs, line2_ys, linewidth=1, color='lime'))
ax.add_line(Line2D(line3_xs, line3_ys, linewidth=1, color='lime'))

plt.savefig('Adaboost',dpi=100)
plt.show()